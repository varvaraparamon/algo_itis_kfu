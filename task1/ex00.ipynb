{
 "cells": [
  {
   "cell_type": "code",
   "execution_count": 1,
   "id": "3a60d282",
   "metadata": {},
   "outputs": [],
   "source": [
    "import numpy as np"
   ]
  },
  {
   "cell_type": "markdown",
   "id": "913987ea",
   "metadata": {},
   "source": [
    "    1. Создание одномерного массива с использованием np.array().\n",
    "        ◦ Создайте одномерный массив из чисел от 1 до 10 с помощью np.array().\n",
    "    2. Создание массива из нулей с помощью np.zeros().\n",
    "        ◦ Создайте массив из 7 элементов, заполненных нулями.\n",
    "    3. Создание массива из единиц с помощью np.ones().\n",
    "        ◦ Создайте массив из 5 единиц.\n",
    "    4. Создание массива с последовательностью чисел с использованием np.arange().\n",
    "        ◦ Создайте массив от 10 до 50 с шагом 5.\n",
    "    5. Создание массива с линейно распределенными числами с помощью np.linspace().\n",
    "        ◦ Создайте массив из 6 чисел, равномерно распределенных от 0 до 100."
   ]
  },
  {
   "cell_type": "code",
   "execution_count": 7,
   "id": "de5f1322",
   "metadata": {},
   "outputs": [
    {
     "data": {
      "text/plain": [
       "array([ 1,  2,  3,  4,  5,  6,  7,  8,  9, 10])"
      ]
     },
     "execution_count": 7,
     "metadata": {},
     "output_type": "execute_result"
    }
   ],
   "source": [
    "np.array([1, 2, 3, 4, 5, 6, 7, 8, 9, 10])"
   ]
  },
  {
   "cell_type": "code",
   "execution_count": 8,
   "id": "935a8966",
   "metadata": {},
   "outputs": [
    {
     "data": {
      "text/plain": [
       "array([0., 0., 0., 0., 0., 0., 0.])"
      ]
     },
     "execution_count": 8,
     "metadata": {},
     "output_type": "execute_result"
    }
   ],
   "source": [
    "np.zeros(7)"
   ]
  },
  {
   "cell_type": "code",
   "execution_count": 9,
   "id": "d76a684f",
   "metadata": {},
   "outputs": [
    {
     "data": {
      "text/plain": [
       "array([1., 1., 1., 1., 1.])"
      ]
     },
     "execution_count": 9,
     "metadata": {},
     "output_type": "execute_result"
    }
   ],
   "source": [
    "np.ones(5)"
   ]
  },
  {
   "cell_type": "code",
   "execution_count": 10,
   "id": "7fbf7931",
   "metadata": {},
   "outputs": [
    {
     "data": {
      "text/plain": [
       "array([10, 15, 20, 25, 30, 35, 40, 45, 50])"
      ]
     },
     "execution_count": 10,
     "metadata": {},
     "output_type": "execute_result"
    }
   ],
   "source": [
    "np.arange(10, 51, 5)"
   ]
  },
  {
   "cell_type": "code",
   "execution_count": 11,
   "id": "2184ae54",
   "metadata": {},
   "outputs": [
    {
     "data": {
      "text/plain": [
       "array([  0.,  20.,  40.,  60.,  80., 100.])"
      ]
     },
     "execution_count": 11,
     "metadata": {},
     "output_type": "execute_result"
    }
   ],
   "source": [
    "np.linspace(0, 100, 6)"
   ]
  },
  {
   "cell_type": "markdown",
   "id": "c076df5c",
   "metadata": {},
   "source": [
    "    6. Индексация массива.\n",
    "        ◦ Создайте массив и выведите второй элемент, последний элемент и элементы с индексами от 3 до 6.\n",
    "    7. Итерация по массиву с использованием цикла for.\n",
    "        ◦ Создайте одномерный массив и выведите его элементы с помощью цикла.\n",
    "    8. Сложение двух массивов.\n",
    "        ◦ Создайте два массива одинаковой длины и сложите их поэлементно.\n",
    "    9. Умножение массива на число.\n",
    "        ◦ Создайте массив и умножьте все его элементы на 2.\n",
    "    10. Возведение элементов массива в квадрат.\n",
    "        ◦ Создайте массив и возведите все его элементы в квадрат."
   ]
  },
  {
   "cell_type": "code",
   "execution_count": 13,
   "id": "30e7a8d8",
   "metadata": {},
   "outputs": [
    {
     "name": "stdout",
     "output_type": "stream",
     "text": [
      "2 10\n",
      "[4 5 6 7]\n"
     ]
    }
   ],
   "source": [
    "a = np.arange(1, 11)\n",
    "print(a[1], a[-1])\n",
    "print(a[3:7])"
   ]
  },
  {
   "cell_type": "code",
   "execution_count": 14,
   "id": "9b278ff8",
   "metadata": {},
   "outputs": [
    {
     "name": "stdout",
     "output_type": "stream",
     "text": [
      "1 2 3 4 5 6 7 8 9 10 "
     ]
    }
   ],
   "source": [
    "for el in a:\n",
    "    print(el, end=\" \")"
   ]
  },
  {
   "cell_type": "code",
   "execution_count": 15,
   "id": "de456bbc",
   "metadata": {},
   "outputs": [
    {
     "data": {
      "text/plain": [
       "array([12, 14, 16, 18, 20, 22, 24, 26, 28, 30])"
      ]
     },
     "execution_count": 15,
     "metadata": {},
     "output_type": "execute_result"
    }
   ],
   "source": [
    "b = np.arange(11, 21)\n",
    "for i in range(len(a)):\n",
    "    b[i] += a[i]\n",
    "b"
   ]
  },
  {
   "cell_type": "code",
   "execution_count": 16,
   "id": "7b5daf18",
   "metadata": {},
   "outputs": [
    {
     "data": {
      "text/plain": [
       "array([ 2,  4,  6,  8, 10, 12, 14, 16, 18, 20])"
      ]
     },
     "execution_count": 16,
     "metadata": {},
     "output_type": "execute_result"
    }
   ],
   "source": [
    "a*2"
   ]
  },
  {
   "cell_type": "code",
   "execution_count": 17,
   "id": "9a71f936",
   "metadata": {},
   "outputs": [
    {
     "data": {
      "text/plain": [
       "array([  1,   4,   9,  16,  25,  36,  49,  64,  81, 100])"
      ]
     },
     "execution_count": 17,
     "metadata": {},
     "output_type": "execute_result"
    }
   ],
   "source": [
    "a*a"
   ]
  },
  {
   "cell_type": "markdown",
   "id": "44b240e8",
   "metadata": {},
   "source": [
    "    11. Поиск минимального и максимального значений в массиве.\n",
    "        ◦ Создайте массив и найдите его минимум и максимум с использованием функций np.min() и np.max().\n",
    "    12. Вычисление среднего значения и стандартного отклонения.\n",
    "        ◦ Создайте массив и вычислите его среднее значение и стандартное отклонение.\n",
    "    13. Использование логарифма, экспоненты и синуса для элементов массива.\n",
    "        ◦ Примените к элементам массива функции np.log(), np.exp() и np.sin().\n",
    "    14. Генерация случайных чисел с использованием np.random.rand().\n",
    "        ◦ Создайте массив из 10 случайных чисел, распределенных от 0 до 1.\n",
    "    15. Генерация случайных целых чисел с использованием np.random.randint().\n",
    "        ◦ Создайте массив из 6 случайных целых чисел от 1 до 100."
   ]
  },
  {
   "cell_type": "code",
   "execution_count": 18,
   "id": "44af3627",
   "metadata": {},
   "outputs": [
    {
     "data": {
      "text/plain": [
       "(np.int64(1), np.int64(10))"
      ]
     },
     "execution_count": 18,
     "metadata": {},
     "output_type": "execute_result"
    }
   ],
   "source": [
    "np.min(a), np.max(a)"
   ]
  },
  {
   "cell_type": "code",
   "execution_count": 19,
   "id": "23ed6a4a",
   "metadata": {},
   "outputs": [
    {
     "data": {
      "text/plain": [
       "(np.float64(5.5), np.float64(2.8722813232690143))"
      ]
     },
     "execution_count": 19,
     "metadata": {},
     "output_type": "execute_result"
    }
   ],
   "source": [
    "np.mean(a), np.std(a)"
   ]
  },
  {
   "cell_type": "code",
   "execution_count": 20,
   "id": "7e4b0da5",
   "metadata": {},
   "outputs": [
    {
     "name": "stdout",
     "output_type": "stream",
     "text": [
      "[0.         0.69314718 1.09861229 1.38629436 1.60943791 1.79175947\n",
      " 1.94591015 2.07944154 2.19722458 2.30258509]\n",
      "[2.71828183e+00 7.38905610e+00 2.00855369e+01 5.45981500e+01\n",
      " 1.48413159e+02 4.03428793e+02 1.09663316e+03 2.98095799e+03\n",
      " 8.10308393e+03 2.20264658e+04]\n",
      "[ 0.84147098  0.90929743  0.14112001 -0.7568025  -0.95892427 -0.2794155\n",
      "  0.6569866   0.98935825  0.41211849 -0.54402111]\n"
     ]
    }
   ],
   "source": [
    "print(np.log(a))\n",
    "print(np.exp(a))\n",
    "print(np.sin(a))"
   ]
  },
  {
   "cell_type": "code",
   "execution_count": 21,
   "id": "1b6d3ae6",
   "metadata": {},
   "outputs": [
    {
     "data": {
      "text/plain": [
       "array([0.48966103, 0.35446374, 0.07857954, 0.56271728, 0.77943733,\n",
       "       0.27102118, 0.83903821, 0.40283786, 0.95559016, 0.85624972])"
      ]
     },
     "execution_count": 21,
     "metadata": {},
     "output_type": "execute_result"
    }
   ],
   "source": [
    "np.random.rand(10)"
   ]
  },
  {
   "cell_type": "code",
   "execution_count": 22,
   "id": "a0ed93a8",
   "metadata": {},
   "outputs": [
    {
     "data": {
      "text/plain": [
       "array([ 1,  8,  8, 90, 63, 25])"
      ]
     },
     "execution_count": 22,
     "metadata": {},
     "output_type": "execute_result"
    }
   ],
   "source": [
    "np.random.randint(1, 100, size=6)"
   ]
  },
  {
   "cell_type": "markdown",
   "id": "360bcc6e",
   "metadata": {},
   "source": [
    "    16. Преобразование одномерного массива в двумерный.\n",
    "        ◦ Преобразуйте одномерный массив в двумерный массив с 2 строками и 5 столбцами.\n",
    "    17. Изменение формы массива с использованием reshape().\n",
    "        ◦ Измените форму одномерного массива с 9 элементами на двумерный массив 3x3.\n",
    "    18. Фильтрация массива с использованием условия.\n",
    "        ◦ Создайте массив и выберите только те элементы, которые больше 5.\n",
    "    19. Использование np.vectorize() для применения функции ко всем элементам массива.\n",
    "        ◦ Создайте массив и примените функцию возведения в куб ко всем его элементам с помощью np.vectorize().\n",
    "    20. Сохранение и загрузка массива в/из файла.\n",
    "        ◦ Сохраните одномерный массив в файл .npy и загрузите его обратно в программу."
   ]
  },
  {
   "cell_type": "code",
   "execution_count": 26,
   "id": "bf4b6998",
   "metadata": {},
   "outputs": [
    {
     "data": {
      "text/plain": [
       "array([[0., 1., 2., 3., 4.],\n",
       "       [5., 6., 7., 8., 9.]])"
      ]
     },
     "execution_count": 26,
     "metadata": {},
     "output_type": "execute_result"
    }
   ],
   "source": [
    "a = np.arange(10)\n",
    "b = np.zeros((2, 5))\n",
    "for i in range(2):\n",
    "    for j in range(5):\n",
    "        b[i][j] = a[i*5 + j]\n",
    "b"
   ]
  },
  {
   "cell_type": "code",
   "execution_count": 27,
   "id": "5338d25d",
   "metadata": {},
   "outputs": [
    {
     "data": {
      "text/plain": [
       "array([[0, 1, 2],\n",
       "       [3, 4, 5],\n",
       "       [6, 7, 8]])"
      ]
     },
     "execution_count": 27,
     "metadata": {},
     "output_type": "execute_result"
    }
   ],
   "source": [
    "a = np.arange(9)\n",
    "a.reshape(3, 3)"
   ]
  },
  {
   "cell_type": "code",
   "execution_count": 30,
   "id": "3db28542",
   "metadata": {},
   "outputs": [
    {
     "data": {
      "text/plain": [
       "array([6, 7, 8, 9])"
      ]
     },
     "execution_count": 30,
     "metadata": {},
     "output_type": "execute_result"
    }
   ],
   "source": [
    "a[a>5]"
   ]
  },
  {
   "cell_type": "code",
   "execution_count": 37,
   "id": "d1e387f3",
   "metadata": {},
   "outputs": [
    {
     "data": {
      "text/plain": [
       "array([  0,   1,   8,  27,  64, 125, 216, 343, 512, 729])"
      ]
     },
     "execution_count": 37,
     "metadata": {},
     "output_type": "execute_result"
    }
   ],
   "source": [
    "a = np.arange(10)\n",
    "def func(a):\n",
    "    return a**3\n",
    "vfunc = np.vectorize(func)\n",
    "vfunc(a)"
   ]
  },
  {
   "cell_type": "code",
   "execution_count": 28,
   "id": "795334be",
   "metadata": {},
   "outputs": [],
   "source": [
    "a = np.arange(10)\n",
    "np.save('data', a)"
   ]
  },
  {
   "cell_type": "code",
   "execution_count": 29,
   "id": "842c53fd",
   "metadata": {},
   "outputs": [
    {
     "data": {
      "text/plain": [
       "array([0, 1, 2, 3, 4, 5, 6, 7, 8, 9])"
      ]
     },
     "execution_count": 29,
     "metadata": {},
     "output_type": "execute_result"
    }
   ],
   "source": [
    "data = np.load('data.npy')\n",
    "data"
   ]
  },
  {
   "cell_type": "code",
   "execution_count": null,
   "id": "8e568cc1",
   "metadata": {},
   "outputs": [],
   "source": []
  }
 ],
 "metadata": {
  "kernelspec": {
   "display_name": "Python 3",
   "language": "python",
   "name": "python3"
  },
  "language_info": {
   "codemirror_mode": {
    "name": "ipython",
    "version": 3
   },
   "file_extension": ".py",
   "mimetype": "text/x-python",
   "name": "python",
   "nbconvert_exporter": "python",
   "pygments_lexer": "ipython3",
   "version": "3.10.12"
  }
 },
 "nbformat": 4,
 "nbformat_minor": 5
}
