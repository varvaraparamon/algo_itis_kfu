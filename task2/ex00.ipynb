{
 "cells": [
  {
   "cell_type": "code",
   "execution_count": 1,
   "id": "331724a8",
   "metadata": {},
   "outputs": [],
   "source": [
    "import numpy as np"
   ]
  },
  {
   "cell_type": "markdown",
   "id": "49680d07",
   "metadata": {},
   "source": [
    "Задания на создание двумерных массивов  \n",
    "    1. Создание массива с помощью np.array:  \n",
    "        ◦ Создайте двумерный массив размером 4x4, содержащий числа от 1 до 16.  \n",
    "    2. Создание массива с помощью np.zeros:  \n",
    "        ◦ Создайте массив размером 5x5, заполненный нулями.  \n",
    "    3. Создание массива с помощью np.ones:  \n",
    "        ◦ Создайте массив размером 3x6, заполненный единицами.  \n",
    "    4. Создание единичной матрицы с помощью np.eye:  \n",
    "        ◦ Создайте единичную матрицу размером 4x4.  \n",
    "    5. Создание массива с помощью np.random.rand:  \n",
    "        ◦ Создайте массив размером 2x3, заполненный случайными числами от 0 до 1.  "
   ]
  },
  {
   "cell_type": "code",
   "execution_count": 2,
   "id": "12e31eb6",
   "metadata": {},
   "outputs": [
    {
     "data": {
      "text/plain": [
       "array([[ 1,  2,  3,  4],\n",
       "       [ 5,  6,  7,  8],\n",
       "       [ 9, 10, 11, 12],\n",
       "       [13, 14, 15, 16]])"
      ]
     },
     "execution_count": 2,
     "metadata": {},
     "output_type": "execute_result"
    }
   ],
   "source": [
    "np.array([[1, 2, 3, 4], [5, 6, 7, 8], [9, 10, 11, 12], [13, 14, 15, 16]])"
   ]
  },
  {
   "cell_type": "code",
   "execution_count": 3,
   "id": "d20793a7",
   "metadata": {},
   "outputs": [
    {
     "data": {
      "text/plain": [
       "array([[0., 0., 0., 0., 0.],\n",
       "       [0., 0., 0., 0., 0.],\n",
       "       [0., 0., 0., 0., 0.],\n",
       "       [0., 0., 0., 0., 0.],\n",
       "       [0., 0., 0., 0., 0.]])"
      ]
     },
     "execution_count": 3,
     "metadata": {},
     "output_type": "execute_result"
    }
   ],
   "source": [
    "np.zeros((5, 5))"
   ]
  },
  {
   "cell_type": "code",
   "execution_count": 4,
   "id": "84325804",
   "metadata": {},
   "outputs": [
    {
     "data": {
      "text/plain": [
       "array([[1., 1., 1., 1., 1., 1.],\n",
       "       [1., 1., 1., 1., 1., 1.],\n",
       "       [1., 1., 1., 1., 1., 1.]])"
      ]
     },
     "execution_count": 4,
     "metadata": {},
     "output_type": "execute_result"
    }
   ],
   "source": [
    "np.ones((3, 6))"
   ]
  },
  {
   "cell_type": "code",
   "execution_count": 5,
   "id": "fa1eb273",
   "metadata": {},
   "outputs": [
    {
     "data": {
      "text/plain": [
       "array([[1., 0., 0., 0.],\n",
       "       [0., 1., 0., 0.],\n",
       "       [0., 0., 1., 0.],\n",
       "       [0., 0., 0., 1.]])"
      ]
     },
     "execution_count": 5,
     "metadata": {},
     "output_type": "execute_result"
    }
   ],
   "source": [
    "np.eye(4)"
   ]
  },
  {
   "cell_type": "code",
   "execution_count": 6,
   "id": "a0684cfc",
   "metadata": {},
   "outputs": [
    {
     "data": {
      "text/plain": [
       "array([[0.15938758, 0.82634451, 0.15085497],\n",
       "       [0.82872846, 0.47231542, 0.99474788]])"
      ]
     },
     "execution_count": 6,
     "metadata": {},
     "output_type": "execute_result"
    }
   ],
   "source": [
    "np.random.rand(2, 3)"
   ]
  },
  {
   "cell_type": "markdown",
   "id": "6e4b91b3",
   "metadata": {},
   "source": [
    "Задания на атрибуты двумерных массивов   \n",
    "    6. Определение размерности массива:  \n",
    "        ◦ Создайте массив размером 3x4 и выведите его размерность (ndim).  \n",
    "    7. Определение формы массива:  \n",
    "        ◦ Создайте массив размером 2x5 и выведите его форму (shape).  \n",
    "    8. Определение общего количества элементов:  \n",
    "        ◦ Создайте массив размером 4x3 и выведите общее количество элементов (size).  \n",
    "    9. Определение типа данных элементов массива:  \n",
    "        ◦ Создайте массив размером 3x3 и выведите тип данных его элементов (dtype).  "
   ]
  },
  {
   "cell_type": "code",
   "execution_count": 10,
   "id": "9a72bbf9",
   "metadata": {},
   "outputs": [
    {
     "data": {
      "text/plain": [
       "2"
      ]
     },
     "execution_count": 10,
     "metadata": {},
     "output_type": "execute_result"
    }
   ],
   "source": [
    "a = np.ones((3, 4))\n",
    "a.ndim"
   ]
  },
  {
   "cell_type": "code",
   "execution_count": 11,
   "id": "d496e5eb",
   "metadata": {},
   "outputs": [
    {
     "data": {
      "text/plain": [
       "(2, 5)"
      ]
     },
     "execution_count": 11,
     "metadata": {},
     "output_type": "execute_result"
    }
   ],
   "source": [
    "a = np.ones((2, 5))\n",
    "a.shape"
   ]
  },
  {
   "cell_type": "code",
   "execution_count": 12,
   "id": "35f6c06d",
   "metadata": {},
   "outputs": [
    {
     "data": {
      "text/plain": [
       "12"
      ]
     },
     "execution_count": 12,
     "metadata": {},
     "output_type": "execute_result"
    }
   ],
   "source": [
    "a = np.ones((4, 3))\n",
    "a.size"
   ]
  },
  {
   "cell_type": "code",
   "execution_count": 13,
   "id": "6fbe653d",
   "metadata": {},
   "outputs": [
    {
     "data": {
      "text/plain": [
       "dtype('float64')"
      ]
     },
     "execution_count": 13,
     "metadata": {},
     "output_type": "execute_result"
    }
   ],
   "source": [
    "a = np.ones((3, 3))\n",
    "a.dtype"
   ]
  },
  {
   "cell_type": "markdown",
   "id": "df610020",
   "metadata": {},
   "source": [
    "Задания на индексацию и срезы   \n",
    "    10. Индексация элемента:  \n",
    "        ◦ Создайте массив размером 3x3 и выведите элемент, находящийся во второй строке и третьем столбце.  \n",
    "    11. Срез строки:  \n",
    "        ◦ Создайте массив размером 4x4 и выведите вторую строку целиком.  \n",
    "    12. Срез столбца:  \n",
    "        ◦ Создайте массив размером 5x5 и выведите третий столбец целиком.  \n",
    "    13. Срез подмассива:  \n",
    "        ◦ Создайте массив размером 6x6 и выведите подмассив, состоящий из первых трех строк и первых трех столбцов.  \n"
   ]
  },
  {
   "cell_type": "code",
   "execution_count": 22,
   "id": "aba59ef1",
   "metadata": {},
   "outputs": [
    {
     "data": {
      "text/plain": [
       "np.float64(0.0)"
      ]
     },
     "execution_count": 22,
     "metadata": {},
     "output_type": "execute_result"
    }
   ],
   "source": [
    "a = np.eye(3)\n",
    "a[1, 2]"
   ]
  },
  {
   "cell_type": "code",
   "execution_count": 16,
   "id": "b9bada74",
   "metadata": {},
   "outputs": [
    {
     "data": {
      "text/plain": [
       "array([0., 1., 0., 0.])"
      ]
     },
     "execution_count": 16,
     "metadata": {},
     "output_type": "execute_result"
    }
   ],
   "source": [
    "a = np.eye(4)\n",
    "a[1]"
   ]
  },
  {
   "cell_type": "code",
   "execution_count": 21,
   "id": "1254b8c6",
   "metadata": {},
   "outputs": [
    {
     "data": {
      "text/plain": [
       "array([0., 0., 1., 0., 0.])"
      ]
     },
     "execution_count": 21,
     "metadata": {},
     "output_type": "execute_result"
    }
   ],
   "source": [
    "a = np.eye(5)\n",
    "a[:, 2]"
   ]
  },
  {
   "cell_type": "code",
   "execution_count": 20,
   "id": "fe270b66",
   "metadata": {},
   "outputs": [
    {
     "data": {
      "text/plain": [
       "array([[1., 0., 0.],\n",
       "       [0., 1., 0.],\n",
       "       [0., 0., 1.]])"
      ]
     },
     "execution_count": 20,
     "metadata": {},
     "output_type": "execute_result"
    }
   ],
   "source": [
    "a = np.eye(6)\n",
    "a[:3, :3]"
   ]
  },
  {
   "cell_type": "markdown",
   "id": "074a7339",
   "metadata": {},
   "source": [
    "Задания на изменение формы массива  \n",
    "    14. Преобразование массива в одномерный:  \n",
    "        ◦ Создайте двумерный массив размером 3x3 и преобразуйте его в одномерный массив с помощью метода flatten.  \n",
    "    15. Изменение формы массива:  \n",
    "        ◦ Создайте массив размером 2x6 и преобразуйте его в массив размером 3x4 с помощью метода reshape.  "
   ]
  },
  {
   "cell_type": "code",
   "execution_count": 23,
   "id": "ec6dfa9d",
   "metadata": {},
   "outputs": [
    {
     "data": {
      "text/plain": [
       "array([1., 0., 0., 0., 1., 0., 0., 0., 1.])"
      ]
     },
     "execution_count": 23,
     "metadata": {},
     "output_type": "execute_result"
    }
   ],
   "source": [
    "a = np.eye(3)\n",
    "a.flatten()"
   ]
  },
  {
   "cell_type": "code",
   "execution_count": 25,
   "id": "74af4abc",
   "metadata": {},
   "outputs": [
    {
     "data": {
      "text/plain": [
       "array([[0.38809599, 0.04104169, 0.47145458, 0.48116805, 0.66916168,\n",
       "        0.509454  ],\n",
       "       [0.75512873, 0.30332379, 0.45373339, 0.17226588, 0.55360443,\n",
       "        0.87845362]])"
      ]
     },
     "execution_count": 25,
     "metadata": {},
     "output_type": "execute_result"
    }
   ],
   "source": [
    "a = np.random.rand(2, 6)\n",
    "a"
   ]
  },
  {
   "cell_type": "code",
   "execution_count": 26,
   "id": "f93779e1",
   "metadata": {},
   "outputs": [
    {
     "data": {
      "text/plain": [
       "array([[0.38809599, 0.04104169, 0.47145458, 0.48116805],\n",
       "       [0.66916168, 0.509454  , 0.75512873, 0.30332379],\n",
       "       [0.45373339, 0.17226588, 0.55360443, 0.87845362]])"
      ]
     },
     "execution_count": 26,
     "metadata": {},
     "output_type": "execute_result"
    }
   ],
   "source": [
    "a.reshape((3, 4))"
   ]
  },
  {
   "cell_type": "markdown",
   "id": "414b467f",
   "metadata": {},
   "source": [
    "Задания на математические операции  \n",
    "    16. Сложение двух массивов:  \n",
    "        ◦ Создайте два массива размером 2x2 и сложите их поэлементно.  \n",
    "    17. Умножение массива на число:  \n",
    "        ◦ Создайте массив размером 3x3 и умножьте каждый его элемент на 5.  \n",
    "    18. Поэлементное умножение массивов:  \n",
    "        ◦ Создайте два массива размером 2x2 и перемножьте их поэлементно.  "
   ]
  },
  {
   "cell_type": "code",
   "execution_count": 27,
   "id": "081cd0e6",
   "metadata": {},
   "outputs": [
    {
     "data": {
      "text/plain": [
       "array([[6., 6.],\n",
       "       [6., 6.]])"
      ]
     },
     "execution_count": 27,
     "metadata": {},
     "output_type": "execute_result"
    }
   ],
   "source": [
    "a = np.ones((2, 2))\n",
    "b = np.full((2, 2), 5)\n",
    "a+b"
   ]
  },
  {
   "cell_type": "code",
   "execution_count": 28,
   "id": "b32b4b01",
   "metadata": {},
   "outputs": [
    {
     "data": {
      "text/plain": [
       "array([[5., 5., 5.],\n",
       "       [5., 5., 5.],\n",
       "       [5., 5., 5.]])"
      ]
     },
     "execution_count": 28,
     "metadata": {},
     "output_type": "execute_result"
    }
   ],
   "source": [
    "a = np.ones((3, 3))\n",
    "a*5"
   ]
  },
  {
   "cell_type": "code",
   "execution_count": 31,
   "id": "d4bf6f57",
   "metadata": {},
   "outputs": [
    {
     "data": {
      "text/plain": [
       "array([[10, 10],\n",
       "       [10, 10]])"
      ]
     },
     "execution_count": 31,
     "metadata": {},
     "output_type": "execute_result"
    }
   ],
   "source": [
    "a = np.full((2, 2), 2)\n",
    "b = np.full((2, 2), 5)\n",
    "a*b"
   ]
  },
  {
   "cell_type": "markdown",
   "id": "3c0a1889",
   "metadata": {},
   "source": [
    "Задания на статистические операции  \n",
    "    19. Среднее значение по всем элементам:  \n",
    "        ◦ Создайте массив размером 4x4 и вычислите среднее значение всех его элементов.  \n",
    "    20. Среднее значение по строкам:  \n",
    "        ◦ Создайте массив размером 3x3 и вычислите среднее значение по каждой строке.  \n",
    "    21. Среднее значение по столбцам:  \n",
    "        ◦ Создайте массив размером 5x5 и вычислите среднее значение по каждому столбцу.  \n",
    "    22. Минимум и максимум:  \n",
    "        ◦ Создайте массив размером 4x4 и найдите минимальное и максимальное значение в массиве.  \n",
    "    23. Сумма всех элементов:  \n",
    "        ◦ Создайте массив размером 3x3 и вычислите сумму всех его элементов.  \n"
   ]
  },
  {
   "cell_type": "code",
   "execution_count": 32,
   "id": "dce1b6a4",
   "metadata": {},
   "outputs": [
    {
     "data": {
      "text/plain": [
       "np.float64(0.5965967973955507)"
      ]
     },
     "execution_count": 32,
     "metadata": {},
     "output_type": "execute_result"
    }
   ],
   "source": [
    "a = np.random.rand(4, 4)\n",
    "a.mean()"
   ]
  },
  {
   "cell_type": "code",
   "execution_count": 33,
   "id": "3e032c8c",
   "metadata": {},
   "outputs": [
    {
     "data": {
      "text/plain": [
       "array([0.57163851, 0.32655755, 0.38808747])"
      ]
     },
     "execution_count": 33,
     "metadata": {},
     "output_type": "execute_result"
    }
   ],
   "source": [
    "a = np.random.rand(3, 3)\n",
    "a.mean(axis=1)"
   ]
  },
  {
   "cell_type": "code",
   "execution_count": 34,
   "id": "23defc58",
   "metadata": {},
   "outputs": [
    {
     "data": {
      "text/plain": [
       "array([0.26218029, 0.58670312, 0.33202285, 0.45656516, 0.57378022])"
      ]
     },
     "execution_count": 34,
     "metadata": {},
     "output_type": "execute_result"
    }
   ],
   "source": [
    "a = np.random.rand(5, 5)\n",
    "a.mean(axis=0)"
   ]
  },
  {
   "cell_type": "code",
   "execution_count": 35,
   "id": "14b207e9",
   "metadata": {},
   "outputs": [
    {
     "data": {
      "text/plain": [
       "(np.float64(0.004413785383538205), np.float64(0.8739372526202022))"
      ]
     },
     "execution_count": 35,
     "metadata": {},
     "output_type": "execute_result"
    }
   ],
   "source": [
    "a = np.random.rand(4, 4)\n",
    "a.min(), a.max()"
   ]
  },
  {
   "cell_type": "code",
   "execution_count": 36,
   "id": "4d885301",
   "metadata": {},
   "outputs": [
    {
     "data": {
      "text/plain": [
       "np.float64(4.9372712862427965)"
      ]
     },
     "execution_count": 36,
     "metadata": {},
     "output_type": "execute_result"
    }
   ],
   "source": [
    "a = np.random.rand(3, 3)\n",
    "a.sum()"
   ]
  },
  {
   "cell_type": "markdown",
   "id": "6319b25b",
   "metadata": {},
   "source": [
    "Задания на транспонирование массива  \n",
    "    24. Транспонирование массива:  \n",
    "        ◦ Создайте массив размером 2x3 и транспонируйте его.  \n"
   ]
  },
  {
   "cell_type": "code",
   "execution_count": 37,
   "id": "02d96f75",
   "metadata": {},
   "outputs": [
    {
     "data": {
      "text/plain": [
       "array([[0.93250353, 0.22704965, 0.26424601],\n",
       "       [0.75852298, 0.32665029, 0.73297209]])"
      ]
     },
     "execution_count": 37,
     "metadata": {},
     "output_type": "execute_result"
    }
   ],
   "source": [
    "a = np.random.rand(2, 3)\n",
    "a"
   ]
  },
  {
   "cell_type": "code",
   "execution_count": 38,
   "id": "0978c254",
   "metadata": {},
   "outputs": [
    {
     "data": {
      "text/plain": [
       "array([[0.93250353, 0.75852298],\n",
       "       [0.22704965, 0.32665029],\n",
       "       [0.26424601, 0.73297209]])"
      ]
     },
     "execution_count": 38,
     "metadata": {},
     "output_type": "execute_result"
    }
   ],
   "source": [
    "a.T"
   ]
  },
  {
   "cell_type": "markdown",
   "id": "a95ae832",
   "metadata": {},
   "source": [
    "Задания на сохранение и загрузку массивов  \n",
    "    25. Сохранение массива в файл:  \n",
    "        ◦ Создайте массив размером 3x3 и сохраните его в файл в формате .npy.  \n",
    "    26. Загрузка массива из файла:  \n",
    "        ◦ Загрузите массив из файла .npy и выведите его на экран.  \n",
    "    27. Сохранение массива в текстовый файл:  \n",
    "        ◦ Создайте массив размером 2x2 и сохраните его в текстовый файл.  \n",
    "    28. Загрузка массива из текстового файла:  \n",
    "        ◦ Загрузите массив из текстового файла и выведите его на экран.  "
   ]
  },
  {
   "cell_type": "code",
   "execution_count": 39,
   "metadata": {},
   "outputs": [],
   "source": [
    "a = np.random.rand(3, 3)\n",
    "np.save('data', a)"
   ]
  },
  {
   "cell_type": "code",
   "execution_count": 40,
   "id": "77c07f9a",
   "metadata": {},
   "outputs": [
    {
     "data": {
      "text/plain": [
       "array([[0.21279829, 0.31531311, 0.95374277],\n",
       "       [0.25087129, 0.92200072, 0.98902859],\n",
       "       [0.77792129, 0.28182827, 0.4538773 ]])"
      ]
     },
     "execution_count": 40,
     "metadata": {},
     "output_type": "execute_result"
    }
   ],
   "source": [
    "np.load('data.npy')"
   ]
  },
  {
   "cell_type": "code",
   "execution_count": null,
   "id": "9a17f3d5",
   "metadata": {},
   "outputs": [],
   "source": [
    "a = np.random.rand(2, 2)"
   ]
  },
  {
   "cell_type": "code",
   "execution_count": 54,
   "id": "950a4229",
   "metadata": {},
   "outputs": [],
   "source": [
    "np.savetxt('data.txt', a)"
   ]
  },
  {
   "cell_type": "code",
   "execution_count": 56,
   "id": "672ae45b",
   "metadata": {},
   "outputs": [
    {
     "data": {
      "text/plain": [
       "array([[0.48280947, 0.52974213],\n",
       "       [0.41102613, 0.37151207]])"
      ]
     },
     "execution_count": 56,
     "metadata": {},
     "output_type": "execute_result"
    }
   ],
   "source": [
    "np.loadtxt('data.txt')"
   ]
  },
  {
   "cell_type": "markdown",
   "id": "8bf4e18d",
   "metadata": {},
   "source": [
    "Задания на итерацию по массиву  \n",
    "    29. Итерация по строкам:  \n",
    "        ◦ Создайте массив размером 3x3 и выведите каждую строку массива.  \n",
    "    30. Итерация по элементам:  \n",
    "        ◦ Создайте массив размером 2x4 и выведите каждый элемент массива.  "
   ]
  },
  {
   "cell_type": "code",
   "execution_count": 60,
   "id": "553bba42",
   "metadata": {},
   "outputs": [
    {
     "name": "stdout",
     "output_type": "stream",
     "text": [
      "[0.87401697 0.52659741 0.01039808]\n",
      "[0.10086577 0.07215468 0.39161042]\n",
      "[0.2483198  0.29314616 0.98422435]\n"
     ]
    }
   ],
   "source": [
    "a = np.random.rand(3, 3)\n",
    "for line in a:\n",
    "    print(line)"
   ]
  },
  {
   "cell_type": "code",
   "execution_count": 61,
   "id": "d0db4da6",
   "metadata": {},
   "outputs": [
    {
     "name": "stdout",
     "output_type": "stream",
     "text": [
      "0.8740169739662711\n",
      "0.526597407519871\n",
      "0.010398083580888673\n",
      "0.10086576752248733\n",
      "0.07215468187519114\n",
      "0.39161041614681946\n",
      "0.2483198019226971\n",
      "0.2931461639802585\n",
      "0.984224345075926\n"
     ]
    }
   ],
   "source": [
    "for line in a:\n",
    "    for el in line:\n",
    "        print(el)"
   ]
  },
  {
   "cell_type": "code",
   "execution_count": null,
   "id": "8d37b437",
   "metadata": {},
   "outputs": [],
   "source": []
  }
 ],
 "metadata": {
  "kernelspec": {
   "display_name": "Python 3",
   "language": "python",
   "name": "python3"
  },
  "language_info": {
   "codemirror_mode": {
    "name": "ipython",
    "version": 3
   },
   "file_extension": ".py",
   "mimetype": "text/x-python",
   "name": "python",
   "nbconvert_exporter": "python",
   "pygments_lexer": "ipython3",
   "version": "3.10.12"
  }
 },
 "nbformat": 4,
 "nbformat_minor": 5
}
